{
 "cells": [
  {
   "cell_type": "markdown",
   "metadata": {},
   "source": [
    "Created By: Abdullah Jamil. \\\n",
    "Date:8/17/2024\\\n",
    "EMAIL: abdullahdatascientist@gmail.com"
   ]
  },
  {
   "cell_type": "markdown",
   "metadata": {},
   "source": [
    "## Develop a SNAKE Game. Using Python \n"
   ]
  },
  {
   "cell_type": "code",
   "execution_count": 4,
   "metadata": {},
   "outputs": [
    {
     "ename": "SyntaxError",
     "evalue": "invalid syntax (3759692211.py, line 1)",
     "output_type": "error",
     "traceback": [
      "\u001b[1;36m  Cell \u001b[1;32mIn[4], line 1\u001b[1;36m\u001b[0m\n\u001b[1;33m    pip install pygame.\u001b[0m\n\u001b[1;37m        ^\u001b[0m\n\u001b[1;31mSyntaxError\u001b[0m\u001b[1;31m:\u001b[0m invalid syntax\n"
     ]
    }
   ],
   "source": [
    "# pip install pygame. \n",
    "# import pygame\n"
   ]
  },
  {
   "cell_type": "code",
   "execution_count": 1,
   "metadata": {},
   "outputs": [
    {
     "name": "stdout",
     "output_type": "stream",
     "text": [
      "pygame 2.6.0 (SDL 2.28.4, Python 3.12.3)\n",
      "Hello from the pygame community. https://www.pygame.org/contribute.html\n"
     ]
    }
   ],
   "source": [
    "import pygame\n",
    "import time\n",
    "import random\n",
    "\n",
    "# Initialize Pygame\n",
    "pygame.init()\n",
    "\n",
    "# Define colors\n",
    "white = (255, 255, 255)\n",
    "yellow = (255, 255, 102)\n",
    "black = (0, 0, 0)\n",
    "red = (213, 50, 80)\n",
    "green = (0, 255, 0)\n",
    "blue = (50, 153, 213)\n",
    "\n",
    "# Set display dimensions\n",
    "width = 600\n",
    "height = 400\n",
    "display = pygame.display.set_mode((width, height))\n",
    "pygame.display.set_caption('Snake Game Created By: Abdullah Jamil.')\n",
    "\n",
    "# Set game clock\n",
    "clock = pygame.time.Clock()\n",
    "\n",
    "# Snake parameters\n",
    "snake_block = 10\n",
    "snake_speed = 20\n",
    "\n",
    "# Font styles\n",
    "font_style = pygame.font.SysFont(\"bahnschrift\", 25)\n",
    "score_font = pygame.font.SysFont(\"comicsansms\", 35)\n",
    "\n",
    "def display_score(score):\n",
    "    value = score_font.render(\"Score: \" + str(score), True, black)\n",
    "    display.blit(value, [0, 0])\n",
    "\n",
    "def draw_snake(snake_block, snake_list):\n",
    "    for x in snake_list:\n",
    "        pygame.draw.rect(display, black, [x[0], x[1], snake_block, snake_block])\n",
    "\n",
    "def message(msg, color):\n",
    "    mesg = font_style.render(msg, True, color)\n",
    "    display.blit(mesg, [width / 6, height / 3])\n",
    "\n",
    "def game_loop():\n",
    "    game_over = False\n",
    "    game_close = False\n",
    "\n",
    "    x1 = width / 2\n",
    "    y1 = height / 2\n",
    "\n",
    "    x1_change = 0\n",
    "    y1_change = 0\n",
    "\n",
    "    snake_list = []\n",
    "    length_of_snake = 1\n",
    "\n",
    "    foodx = round(random.randrange(0, width - snake_block) / 10.0) * 10.0\n",
    "    foody = round(random.randrange(0, height - snake_block) / 10.0) * 10.0\n",
    "    while not game_over:\n",
    "\n",
    "        while game_close == True:\n",
    "            display.fill(blue)\n",
    "            message(\"You Lost!Press C-Play Again or Q-Quit\", red)\n",
    "            display_score(length_of_snake - 1)\n",
    "            pygame.display.update()\n",
    "\n",
    "            for event in pygame.event.get():\n",
    "                if event.type == pygame.KEYDOWN:\n",
    "                    if event.key == pygame.K_q:\n",
    "                        game_over = True\n",
    "                        game_close = False\n",
    "                    if event.key == pygame.K_c:\n",
    "                        game_loop()\n",
    "\n",
    "        for event in pygame.event.get():\n",
    "            if event.type == pygame.QUIT:\n",
    "                game_over = True\n",
    "            if event.type == pygame.KEYDOWN:\n",
    "                if event.key == pygame.K_LEFT:\n",
    "                    x1_change = -snake_block\n",
    "                    y1_change = 0\n",
    "                elif event.key == pygame.K_RIGHT:\n",
    "                    x1_change = snake_block\n",
    "                    y1_change = 0\n",
    "                elif event.key == pygame.K_UP:\n",
    "                    y1_change = -snake_block\n",
    "                    x1_change = 0\n",
    "                elif event.key == pygame.K_DOWN:\n",
    "                    y1_change = snake_block\n",
    "                    x1_change = 0\n",
    "\n",
    "        if x1 >= width or x1 < 0 or y1 >= height or y1 < 0:\n",
    "            game_close = True\n",
    "\n",
    "        x1 += x1_change\n",
    "        y1 += y1_change\n",
    "        display.fill(blue)\n",
    "        pygame.draw.rect(display, green, [foodx, foody, snake_block, snake_block])\n",
    "        snake_head = []\n",
    "        snake_head.append(x1)\n",
    "        snake_head.append(y1)\n",
    "        snake_list.append(snake_head)\n",
    "        if len(snake_list) > length_of_snake:\n",
    "            del snake_list[0]\n",
    "\n",
    "        for x in snake_list[:-1]:\n",
    "            if x == snake_head:\n",
    "                game_close = True\n",
    "\n",
    "        draw_snake(snake_block, snake_list)\n",
    "        display_score(length_of_snake - 1)\n",
    "\n",
    "        pygame.display.update()\n",
    "\n",
    "        if x1 == foodx and y1 == foody:\n",
    "            foodx = round(random.randrange(0, width - snake_block) / 10.0) * 10.0\n",
    "            foody = round(random.randrange(0, height - snake_block) / 10.0) * 10.0\n",
    "            length_of_snake += 1\n",
    "\n",
    "        clock.tick(snake_speed)\n",
    "\n",
    "    pygame.quit()\n",
    "    quit()\n",
    "\n",
    "if __name__ == \"__main__\":\n",
    "    try:\n",
    "        game_loop()\n",
    "    except Exception as e:\n",
    "        print(f\"An error occurred: {e}\")\n"
   ]
  },
  {
   "cell_type": "code",
   "execution_count": null,
   "metadata": {},
   "outputs": [],
   "source": []
  }
 ],
 "metadata": {
  "kernelspec": {
   "display_name": "tf_env",
   "language": "python",
   "name": "python3"
  },
  "language_info": {
   "codemirror_mode": {
    "name": "ipython",
    "version": 3
   },
   "file_extension": ".py",
   "mimetype": "text/x-python",
   "name": "python",
   "nbconvert_exporter": "python",
   "pygments_lexer": "ipython3",
   "version": "3.12.3"
  }
 },
 "nbformat": 4,
 "nbformat_minor": 2
}
